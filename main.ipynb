{
 "cells": [
  {
   "cell_type": "markdown",
   "metadata": {},
   "source": [
    "Mount to MyDrive:"
   ]
  },
  {
   "cell_type": "code",
   "execution_count": null,
   "metadata": {},
   "outputs": [],
   "source": [
    "from google.colab import drive\n",
    "\n",
    "drive.mount('/content/gdrive')"
   ]
  },
  {
   "cell_type": "markdown",
   "metadata": {},
   "source": [
    "Download repo and install dependencies:"
   ]
  },
  {
   "cell_type": "code",
   "execution_count": null,
   "metadata": {},
   "outputs": [],
   "source": [
    "import os\n",
    "\n",
    "%cd /content/gdrive/MyDrive\n",
    "\n",
    "if os.getcwd() == '/content/gdrive/MyDrive/Book-Recommendation-System':\n",
    "  %cd ..\n",
    "  !rm -r ./NLP-Business-News-Summarization/\n",
    "\n",
    "# Remove Colab default sample_data\n",
    "if os.path.exists('/content/sample_data'):\n",
    "  !rm -r /content/sample_data\n",
    "\n",
    "repo_name = \"Book-Recommendation-System\" # Repository Name\n",
    "\n",
    "if not os.path.isdir('./' + repo_name):\n",
    "  # Clone GitHub Files\n",
    "  git_path = 'https://github.com/christianwhollar/Book-Recommendation-System.git'\n",
    "  !git clone \"{git_path}\"\n",
    "\n",
    "# Change to new directory\n",
    "if not os.path.basename(os.getcwd()) == repo_name:\n",
    "  %cd \"{repo_name}\""
   ]
  },
  {
   "cell_type": "markdown",
   "metadata": {},
   "source": [
    "Running setup.py will do the following:\n",
    "* Download the Goodreads & Book Crossing .csv data\n",
    "* Merge the data & prepare for modeling\n",
    "* Train the HybridRecommendation model\n",
    "* Evaluate the HybridRecommendation model\n",
    "* Train the ContentFilter model\n",
    "* Evaluate the Content Filer model"
   ]
  },
  {
   "cell_type": "code",
   "execution_count": null,
   "metadata": {},
   "outputs": [],
   "source": [
    "%run scripts/setup.py"
   ]
  },
  {
   "cell_type": "markdown",
   "metadata": {},
   "source": [
    "Launch the streamlit app:"
   ]
  },
  {
   "cell_type": "code",
   "execution_count": null,
   "metadata": {},
   "outputs": [],
   "source": [
    "!streamlit run app.py"
   ]
  }
 ],
 "metadata": {
  "kernelspec": {
   "display_name": "base",
   "language": "python",
   "name": "python3"
  },
  "language_info": {
   "codemirror_mode": {
    "name": "ipython",
    "version": 3
   },
   "file_extension": ".py",
   "mimetype": "text/x-python",
   "name": "python",
   "nbconvert_exporter": "python",
   "pygments_lexer": "ipython3",
   "version": "3.9.12"
  },
  "orig_nbformat": 4
 },
 "nbformat": 4,
 "nbformat_minor": 2
}
