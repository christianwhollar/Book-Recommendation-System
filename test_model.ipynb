{
 "cells": [
  {
   "cell_type": "code",
   "execution_count": 1,
   "metadata": {},
   "outputs": [
    {
     "name": "stdout",
     "output_type": "stream",
     "text": [
      "DataFrame saved to data/processed/book_reference_dataframe.pkl\n",
      "DataFrame saved to data/processed/final_dataframe.pkl\n"
     ]
    }
   ],
   "source": [
    "from scripts.process_data import ProcessData\n",
    "processor = ProcessData()\n",
    "final_dataframe = processor.get_final_dataframe()"
   ]
  },
  {
   "cell_type": "code",
   "execution_count": 1,
   "metadata": {},
   "outputs": [],
   "source": [
    "import pandas as pd\n",
    "ref_path = 'data/processed/final_dataframe.pkl'\n",
    "final_dataframe = pd.read_pickle(ref_path)"
   ]
  },
  {
   "cell_type": "code",
   "execution_count": 2,
   "metadata": {},
   "outputs": [],
   "source": [
    "from scripts.hybrid_recommendation_model import HybridRecommendation"
   ]
  },
  {
   "cell_type": "code",
   "execution_count": 3,
   "metadata": {},
   "outputs": [],
   "source": [
    "hr = HybridRecommendation(final_dataframe)"
   ]
  },
  {
   "cell_type": "code",
   "execution_count": 4,
   "metadata": {},
   "outputs": [
    {
     "name": "stdout",
     "output_type": "stream",
     "text": [
      "Mapping for column 'isbn_gr' saved to data/processed//isbn_gr_mapping.pkl\n",
      "Epoch 0/13\n",
      "----------\n"
     ]
    },
    {
     "name": "stderr",
     "output_type": "stream",
     "text": [
      " 50%|█████     | 1/2 [00:22<00:22, 22.66s/it]"
     ]
    },
    {
     "name": "stdout",
     "output_type": "stream",
     "text": [
      "train loss: 0.9830\n"
     ]
    },
    {
     "name": "stderr",
     "output_type": "stream",
     "text": [
      "100%|██████████| 2/2 [00:23<00:00, 11.58s/it]\n"
     ]
    },
    {
     "name": "stdout",
     "output_type": "stream",
     "text": [
      "val loss: 0.9627\n",
      "Epoch 1/13\n",
      "----------\n"
     ]
    },
    {
     "name": "stderr",
     "output_type": "stream",
     "text": [
      " 50%|█████     | 1/2 [00:23<00:23, 23.43s/it]"
     ]
    },
    {
     "name": "stdout",
     "output_type": "stream",
     "text": [
      "train loss: 0.9656\n"
     ]
    },
    {
     "name": "stderr",
     "output_type": "stream",
     "text": [
      "100%|██████████| 2/2 [00:24<00:00, 12.01s/it]\n"
     ]
    },
    {
     "name": "stdout",
     "output_type": "stream",
     "text": [
      "val loss: 0.9600\n",
      "Epoch 2/13\n",
      "----------\n"
     ]
    },
    {
     "name": "stderr",
     "output_type": "stream",
     "text": [
      " 50%|█████     | 1/2 [00:23<00:23, 23.22s/it]"
     ]
    },
    {
     "name": "stdout",
     "output_type": "stream",
     "text": [
      "train loss: 0.9639\n"
     ]
    },
    {
     "name": "stderr",
     "output_type": "stream",
     "text": [
      "100%|██████████| 2/2 [00:23<00:00, 11.83s/it]\n"
     ]
    },
    {
     "name": "stdout",
     "output_type": "stream",
     "text": [
      "val loss: 0.9589\n",
      "Epoch 3/13\n",
      "----------\n"
     ]
    },
    {
     "name": "stderr",
     "output_type": "stream",
     "text": [
      " 50%|█████     | 1/2 [00:23<00:23, 23.21s/it]"
     ]
    },
    {
     "name": "stdout",
     "output_type": "stream",
     "text": [
      "train loss: 0.9632\n"
     ]
    },
    {
     "name": "stderr",
     "output_type": "stream",
     "text": [
      "100%|██████████| 2/2 [00:23<00:00, 11.84s/it]\n"
     ]
    },
    {
     "name": "stdout",
     "output_type": "stream",
     "text": [
      "val loss: 0.9585\n",
      "Epoch 4/13\n",
      "----------\n"
     ]
    },
    {
     "name": "stderr",
     "output_type": "stream",
     "text": [
      " 50%|█████     | 1/2 [00:24<00:24, 24.17s/it]"
     ]
    },
    {
     "name": "stdout",
     "output_type": "stream",
     "text": [
      "train loss: 0.9625\n"
     ]
    },
    {
     "name": "stderr",
     "output_type": "stream",
     "text": [
      "100%|██████████| 2/2 [00:24<00:00, 12.29s/it]\n"
     ]
    },
    {
     "name": "stdout",
     "output_type": "stream",
     "text": [
      "val loss: 0.9574\n",
      "Epoch 5/13\n",
      "----------\n"
     ]
    },
    {
     "name": "stderr",
     "output_type": "stream",
     "text": [
      " 50%|█████     | 1/2 [00:21<00:21, 21.80s/it]"
     ]
    },
    {
     "name": "stdout",
     "output_type": "stream",
     "text": [
      "train loss: 0.9603\n"
     ]
    },
    {
     "name": "stderr",
     "output_type": "stream",
     "text": [
      "100%|██████████| 2/2 [00:22<00:00, 11.13s/it]\n"
     ]
    },
    {
     "name": "stdout",
     "output_type": "stream",
     "text": [
      "val loss: 0.9537\n",
      "Epoch 6/13\n",
      "----------\n"
     ]
    },
    {
     "name": "stderr",
     "output_type": "stream",
     "text": [
      " 50%|█████     | 1/2 [00:22<00:22, 22.35s/it]"
     ]
    },
    {
     "name": "stdout",
     "output_type": "stream",
     "text": [
      "train loss: 0.9505\n"
     ]
    },
    {
     "name": "stderr",
     "output_type": "stream",
     "text": [
      "100%|██████████| 2/2 [00:22<00:00, 11.38s/it]\n"
     ]
    },
    {
     "name": "stdout",
     "output_type": "stream",
     "text": [
      "val loss: 0.9456\n",
      "Epoch 7/13\n",
      "----------\n"
     ]
    },
    {
     "name": "stderr",
     "output_type": "stream",
     "text": [
      " 50%|█████     | 1/2 [00:22<00:22, 22.59s/it]"
     ]
    },
    {
     "name": "stdout",
     "output_type": "stream",
     "text": [
      "train loss: 0.9337\n"
     ]
    },
    {
     "name": "stderr",
     "output_type": "stream",
     "text": [
      "100%|██████████| 2/2 [00:22<00:00, 11.49s/it]\n"
     ]
    },
    {
     "name": "stdout",
     "output_type": "stream",
     "text": [
      "val loss: 0.9394\n",
      "Epoch 8/13\n",
      "----------\n"
     ]
    },
    {
     "name": "stderr",
     "output_type": "stream",
     "text": [
      " 50%|█████     | 1/2 [00:22<00:22, 22.17s/it]"
     ]
    },
    {
     "name": "stdout",
     "output_type": "stream",
     "text": [
      "train loss: 0.9173\n"
     ]
    },
    {
     "name": "stderr",
     "output_type": "stream",
     "text": [
      "100%|██████████| 2/2 [00:22<00:00, 11.33s/it]\n"
     ]
    },
    {
     "name": "stdout",
     "output_type": "stream",
     "text": [
      "val loss: 0.9378\n",
      "Epoch 9/13\n",
      "----------\n"
     ]
    },
    {
     "name": "stderr",
     "output_type": "stream",
     "text": [
      " 50%|█████     | 1/2 [00:23<00:23, 23.35s/it]"
     ]
    },
    {
     "name": "stdout",
     "output_type": "stream",
     "text": [
      "train loss: 0.9062\n"
     ]
    },
    {
     "name": "stderr",
     "output_type": "stream",
     "text": [
      "100%|██████████| 2/2 [00:23<00:00, 11.92s/it]\n"
     ]
    },
    {
     "name": "stdout",
     "output_type": "stream",
     "text": [
      "val loss: 0.9354\n",
      "Epoch 10/13\n",
      "----------\n"
     ]
    },
    {
     "name": "stderr",
     "output_type": "stream",
     "text": [
      " 50%|█████     | 1/2 [00:23<00:23, 23.23s/it]"
     ]
    },
    {
     "name": "stdout",
     "output_type": "stream",
     "text": [
      "train loss: 0.8994\n"
     ]
    },
    {
     "name": "stderr",
     "output_type": "stream",
     "text": [
      "100%|██████████| 2/2 [00:23<00:00, 11.90s/it]\n"
     ]
    },
    {
     "name": "stdout",
     "output_type": "stream",
     "text": [
      "val loss: 0.9377\n",
      "Epoch 11/13\n",
      "----------\n"
     ]
    },
    {
     "name": "stderr",
     "output_type": "stream",
     "text": [
      " 50%|█████     | 1/2 [00:22<00:22, 22.54s/it]"
     ]
    },
    {
     "name": "stdout",
     "output_type": "stream",
     "text": [
      "train loss: 0.8958\n"
     ]
    },
    {
     "name": "stderr",
     "output_type": "stream",
     "text": [
      "100%|██████████| 2/2 [00:22<00:00, 11.48s/it]\n"
     ]
    },
    {
     "name": "stdout",
     "output_type": "stream",
     "text": [
      "val loss: 0.9359\n",
      "Epoch 12/13\n",
      "----------\n"
     ]
    },
    {
     "name": "stderr",
     "output_type": "stream",
     "text": [
      " 50%|█████     | 1/2 [00:21<00:21, 21.88s/it]"
     ]
    },
    {
     "name": "stdout",
     "output_type": "stream",
     "text": [
      "train loss: 0.8928\n"
     ]
    },
    {
     "name": "stderr",
     "output_type": "stream",
     "text": [
      "100%|██████████| 2/2 [00:22<00:00, 11.16s/it]\n"
     ]
    },
    {
     "name": "stdout",
     "output_type": "stream",
     "text": [
      "val loss: 0.9370\n",
      "Epoch 13/13\n",
      "----------\n"
     ]
    },
    {
     "name": "stderr",
     "output_type": "stream",
     "text": [
      " 50%|█████     | 1/2 [00:22<00:22, 22.99s/it]"
     ]
    },
    {
     "name": "stdout",
     "output_type": "stream",
     "text": [
      "train loss: 0.8893\n"
     ]
    },
    {
     "name": "stderr",
     "output_type": "stream",
     "text": [
      "100%|██████████| 2/2 [00:23<00:00, 11.70s/it]"
     ]
    },
    {
     "name": "stdout",
     "output_type": "stream",
     "text": [
      "val loss: 0.9368\n",
      "Training complete in 5m 26s\n"
     ]
    },
    {
     "name": "stderr",
     "output_type": "stream",
     "text": [
      "\n"
     ]
    }
   ],
   "source": [
    "hr.run_train()"
   ]
  },
  {
   "cell_type": "code",
   "execution_count": 12,
   "metadata": {},
   "outputs": [
    {
     "data": {
      "text/plain": [
       "27846"
      ]
     },
     "execution_count": 12,
     "metadata": {},
     "output_type": "execute_result"
    }
   ],
   "source": [
    "uservcs = df['user_id_gr'].value_counts()\n",
    "lfv = uservcs.idxmin()\n",
    "min_user = df.loc[df['user_id_gr'] == lfv, 'user_id_gr']\n",
    "min_user.iloc[0]"
   ]
  },
  {
   "cell_type": "code",
   "execution_count": null,
   "metadata": {},
   "outputs": [],
   "source": []
  },
  {
   "cell_type": "code",
   "execution_count": 5,
   "metadata": {},
   "outputs": [
    {
     "name": "stdout",
     "output_type": "stream",
     "text": [
      "Mapping for column 'isbn_gr' saved to data/processed//isbn_gr_mapping.pkl\n"
     ]
    }
   ],
   "source": [
    "df = hr.process_df()"
   ]
  },
  {
   "cell_type": "code",
   "execution_count": 8,
   "metadata": {},
   "outputs": [
    {
     "name": "stdout",
     "output_type": "stream",
     "text": [
      "Mapping for column 'isbn_gr' saved to data/processed//isbn_gr_mapping.pkl\n"
     ]
    },
    {
     "data": {
      "text/html": [
       "<div>\n",
       "<style scoped>\n",
       "    .dataframe tbody tr th:only-of-type {\n",
       "        vertical-align: middle;\n",
       "    }\n",
       "\n",
       "    .dataframe tbody tr th {\n",
       "        vertical-align: top;\n",
       "    }\n",
       "\n",
       "    .dataframe thead th {\n",
       "        text-align: right;\n",
       "    }\n",
       "</style>\n",
       "<table border=\"1\" class=\"dataframe\">\n",
       "  <thead>\n",
       "    <tr style=\"text-align: right;\">\n",
       "      <th></th>\n",
       "      <th>user_id_gr</th>\n",
       "      <th>book_id_gr</th>\n",
       "      <th>rating_gr</th>\n",
       "      <th>goodreads_book_id_gr</th>\n",
       "      <th>best_book_id_gr</th>\n",
       "      <th>work_id_gr</th>\n",
       "      <th>books_count_gr</th>\n",
       "      <th>isbn_gr</th>\n",
       "      <th>isbn13_gr</th>\n",
       "      <th>authors_gr</th>\n",
       "      <th>...</th>\n",
       "      <th>work_text_reviews_count_gr</th>\n",
       "      <th>ratings_1_gr</th>\n",
       "      <th>ratings_2_gr</th>\n",
       "      <th>ratings_3_gr</th>\n",
       "      <th>ratings_4_gr</th>\n",
       "      <th>ratings_5_gr</th>\n",
       "      <th>image_url_gr</th>\n",
       "      <th>small_image_url_gr</th>\n",
       "      <th>ISBN_bx</th>\n",
       "      <th>Book-Rating_bx</th>\n",
       "    </tr>\n",
       "  </thead>\n",
       "  <tbody>\n",
       "    <tr>\n",
       "      <th>0</th>\n",
       "      <td>1</td>\n",
       "      <td>212</td>\n",
       "      <td>3</td>\n",
       "      <td>6867</td>\n",
       "      <td>6867</td>\n",
       "      <td>2307233</td>\n",
       "      <td>155</td>\n",
       "      <td>0</td>\n",
       "      <td>9.780386e+12</td>\n",
       "      <td>Ian McEwan</td>\n",
       "      <td>...</td>\n",
       "      <td>14815</td>\n",
       "      <td>11473</td>\n",
       "      <td>25462</td>\n",
       "      <td>77135</td>\n",
       "      <td>134788</td>\n",
       "      <td>116800</td>\n",
       "      <td>https://images.gr-assets.com/books/1320449708m...</td>\n",
       "      <td>https://images.gr-assets.com/books/1320449708s...</td>\n",
       "      <td>038572179X</td>\n",
       "      <td>2.786517</td>\n",
       "    </tr>\n",
       "    <tr>\n",
       "      <th>17750</th>\n",
       "      <td>1</td>\n",
       "      <td>119</td>\n",
       "      <td>3</td>\n",
       "      <td>38447</td>\n",
       "      <td>38447</td>\n",
       "      <td>1119185</td>\n",
       "      <td>236</td>\n",
       "      <td>1</td>\n",
       "      <td>9.780385e+12</td>\n",
       "      <td>Margaret Atwood</td>\n",
       "      <td>...</td>\n",
       "      <td>35925</td>\n",
       "      <td>13998</td>\n",
       "      <td>32561</td>\n",
       "      <td>116975</td>\n",
       "      <td>252942</td>\n",
       "      <td>267088</td>\n",
       "      <td>https://images.gr-assets.com/books/1498057733m...</td>\n",
       "      <td>https://images.gr-assets.com/books/1498057733s...</td>\n",
       "      <td>038549081X</td>\n",
       "      <td>4.117647</td>\n",
       "    </tr>\n",
       "    <tr>\n",
       "      <th>25293</th>\n",
       "      <td>1</td>\n",
       "      <td>238</td>\n",
       "      <td>2</td>\n",
       "      <td>242006</td>\n",
       "      <td>242006</td>\n",
       "      <td>828773</td>\n",
       "      <td>79</td>\n",
       "      <td>2</td>\n",
       "      <td>9.780312e+12</td>\n",
       "      <td>Augusten Burroughs</td>\n",
       "      <td>...</td>\n",
       "      <td>11601</td>\n",
       "      <td>13569</td>\n",
       "      <td>27249</td>\n",
       "      <td>78405</td>\n",
       "      <td>105786</td>\n",
       "      <td>81379</td>\n",
       "      <td>https://s.gr-assets.com/assets/nophoto/book/11...</td>\n",
       "      <td>https://s.gr-assets.com/assets/nophoto/book/50...</td>\n",
       "      <td>031242227X</td>\n",
       "      <td>3.546584</td>\n",
       "    </tr>\n",
       "    <tr>\n",
       "      <th>29017</th>\n",
       "      <td>1</td>\n",
       "      <td>60</td>\n",
       "      <td>3</td>\n",
       "      <td>1618</td>\n",
       "      <td>1618</td>\n",
       "      <td>4259809</td>\n",
       "      <td>183</td>\n",
       "      <td>3</td>\n",
       "      <td>9.781400e+12</td>\n",
       "      <td>Mark Haddon</td>\n",
       "      <td>...</td>\n",
       "      <td>35796</td>\n",
       "      <td>21049</td>\n",
       "      <td>58117</td>\n",
       "      <td>218218</td>\n",
       "      <td>355925</td>\n",
       "      <td>262481</td>\n",
       "      <td>https://images.gr-assets.com/books/1479863624m...</td>\n",
       "      <td>https://images.gr-assets.com/books/1479863624s...</td>\n",
       "      <td>1400032717</td>\n",
       "      <td>4.813187</td>\n",
       "    </tr>\n",
       "    <tr>\n",
       "      <th>38052</th>\n",
       "      <td>1</td>\n",
       "      <td>3889</td>\n",
       "      <td>3</td>\n",
       "      <td>77554</td>\n",
       "      <td>77554</td>\n",
       "      <td>1820281</td>\n",
       "      <td>71</td>\n",
       "      <td>4</td>\n",
       "      <td>9.780140e+12</td>\n",
       "      <td>Carol Shields</td>\n",
       "      <td>...</td>\n",
       "      <td>1459</td>\n",
       "      <td>572</td>\n",
       "      <td>1931</td>\n",
       "      <td>7485</td>\n",
       "      <td>11710</td>\n",
       "      <td>8397</td>\n",
       "      <td>https://images.gr-assets.com/books/1285159303m...</td>\n",
       "      <td>https://images.gr-assets.com/books/1285159303s...</td>\n",
       "      <td>014023313X</td>\n",
       "      <td>2.436464</td>\n",
       "    </tr>\n",
       "  </tbody>\n",
       "</table>\n",
       "<p>5 rows × 27 columns</p>\n",
       "</div>"
      ],
      "text/plain": [
       "       user_id_gr  book_id_gr  rating_gr  goodreads_book_id_gr  \\\n",
       "0               1         212          3                  6867   \n",
       "17750           1         119          3                 38447   \n",
       "25293           1         238          2                242006   \n",
       "29017           1          60          3                  1618   \n",
       "38052           1        3889          3                 77554   \n",
       "\n",
       "       best_book_id_gr  work_id_gr  books_count_gr  isbn_gr     isbn13_gr  \\\n",
       "0                 6867     2307233             155        0  9.780386e+12   \n",
       "17750            38447     1119185             236        1  9.780385e+12   \n",
       "25293           242006      828773              79        2  9.780312e+12   \n",
       "29017             1618     4259809             183        3  9.781400e+12   \n",
       "38052            77554     1820281              71        4  9.780140e+12   \n",
       "\n",
       "               authors_gr  ...  work_text_reviews_count_gr ratings_1_gr  \\\n",
       "0              Ian McEwan  ...                       14815        11473   \n",
       "17750     Margaret Atwood  ...                       35925        13998   \n",
       "25293  Augusten Burroughs  ...                       11601        13569   \n",
       "29017         Mark Haddon  ...                       35796        21049   \n",
       "38052       Carol Shields  ...                        1459          572   \n",
       "\n",
       "      ratings_2_gr ratings_3_gr  ratings_4_gr  ratings_5_gr  \\\n",
       "0            25462        77135        134788        116800   \n",
       "17750        32561       116975        252942        267088   \n",
       "25293        27249        78405        105786         81379   \n",
       "29017        58117       218218        355925        262481   \n",
       "38052         1931         7485         11710          8397   \n",
       "\n",
       "                                            image_url_gr  \\\n",
       "0      https://images.gr-assets.com/books/1320449708m...   \n",
       "17750  https://images.gr-assets.com/books/1498057733m...   \n",
       "25293  https://s.gr-assets.com/assets/nophoto/book/11...   \n",
       "29017  https://images.gr-assets.com/books/1479863624m...   \n",
       "38052  https://images.gr-assets.com/books/1285159303m...   \n",
       "\n",
       "                                      small_image_url_gr     ISBN_bx  \\\n",
       "0      https://images.gr-assets.com/books/1320449708s...  038572179X   \n",
       "17750  https://images.gr-assets.com/books/1498057733s...  038549081X   \n",
       "25293  https://s.gr-assets.com/assets/nophoto/book/50...  031242227X   \n",
       "29017  https://images.gr-assets.com/books/1479863624s...  1400032717   \n",
       "38052  https://images.gr-assets.com/books/1285159303s...  014023313X   \n",
       "\n",
       "       Book-Rating_bx  \n",
       "0            2.786517  \n",
       "17750        4.117647  \n",
       "25293        3.546584  \n",
       "29017        4.813187  \n",
       "38052        2.436464  \n",
       "\n",
       "[5 rows x 27 columns]"
      ]
     },
     "execution_count": 8,
     "metadata": {},
     "output_type": "execute_result"
    }
   ],
   "source": [
    "df = hr.map_columns_to_int(hr.input_df, column_name='isbn_gr', mapping_dir='data/processed/')\n",
    "df.head()"
   ]
  },
  {
   "cell_type": "code",
   "execution_count": 6,
   "metadata": {},
   "outputs": [
    {
     "data": {
      "text/html": [
       "<div>\n",
       "<style scoped>\n",
       "    .dataframe tbody tr th:only-of-type {\n",
       "        vertical-align: middle;\n",
       "    }\n",
       "\n",
       "    .dataframe tbody tr th {\n",
       "        vertical-align: top;\n",
       "    }\n",
       "\n",
       "    .dataframe thead th {\n",
       "        text-align: right;\n",
       "    }\n",
       "</style>\n",
       "<table border=\"1\" class=\"dataframe\">\n",
       "  <thead>\n",
       "    <tr style=\"text-align: right;\">\n",
       "      <th></th>\n",
       "      <th>user_id_gr</th>\n",
       "      <th>book_id_gr</th>\n",
       "      <th>rating_gr</th>\n",
       "      <th>goodreads_book_id_gr</th>\n",
       "      <th>best_book_id_gr</th>\n",
       "      <th>work_id_gr</th>\n",
       "      <th>books_count_gr</th>\n",
       "      <th>isbn_gr</th>\n",
       "      <th>isbn13_gr</th>\n",
       "      <th>authors_gr</th>\n",
       "      <th>...</th>\n",
       "      <th>work_text_reviews_count_gr</th>\n",
       "      <th>ratings_1_gr</th>\n",
       "      <th>ratings_2_gr</th>\n",
       "      <th>ratings_3_gr</th>\n",
       "      <th>ratings_4_gr</th>\n",
       "      <th>ratings_5_gr</th>\n",
       "      <th>image_url_gr</th>\n",
       "      <th>small_image_url_gr</th>\n",
       "      <th>ISBN_bx</th>\n",
       "      <th>Book-Rating_bx</th>\n",
       "    </tr>\n",
       "  </thead>\n",
       "  <tbody>\n",
       "    <tr>\n",
       "      <th>0</th>\n",
       "      <td>1</td>\n",
       "      <td>212</td>\n",
       "      <td>3</td>\n",
       "      <td>6867</td>\n",
       "      <td>6867</td>\n",
       "      <td>2307233</td>\n",
       "      <td>155</td>\n",
       "      <td>038572179X</td>\n",
       "      <td>9.780386e+12</td>\n",
       "      <td>Ian McEwan</td>\n",
       "      <td>...</td>\n",
       "      <td>14815</td>\n",
       "      <td>11473</td>\n",
       "      <td>25462</td>\n",
       "      <td>77135</td>\n",
       "      <td>134788</td>\n",
       "      <td>116800</td>\n",
       "      <td>https://images.gr-assets.com/books/1320449708m...</td>\n",
       "      <td>https://images.gr-assets.com/books/1320449708s...</td>\n",
       "      <td>038572179X</td>\n",
       "      <td>2.786517</td>\n",
       "    </tr>\n",
       "    <tr>\n",
       "      <th>17750</th>\n",
       "      <td>1</td>\n",
       "      <td>119</td>\n",
       "      <td>3</td>\n",
       "      <td>38447</td>\n",
       "      <td>38447</td>\n",
       "      <td>1119185</td>\n",
       "      <td>236</td>\n",
       "      <td>038549081X</td>\n",
       "      <td>9.780385e+12</td>\n",
       "      <td>Margaret Atwood</td>\n",
       "      <td>...</td>\n",
       "      <td>35925</td>\n",
       "      <td>13998</td>\n",
       "      <td>32561</td>\n",
       "      <td>116975</td>\n",
       "      <td>252942</td>\n",
       "      <td>267088</td>\n",
       "      <td>https://images.gr-assets.com/books/1498057733m...</td>\n",
       "      <td>https://images.gr-assets.com/books/1498057733s...</td>\n",
       "      <td>038549081X</td>\n",
       "      <td>4.117647</td>\n",
       "    </tr>\n",
       "    <tr>\n",
       "      <th>25293</th>\n",
       "      <td>1</td>\n",
       "      <td>238</td>\n",
       "      <td>2</td>\n",
       "      <td>242006</td>\n",
       "      <td>242006</td>\n",
       "      <td>828773</td>\n",
       "      <td>79</td>\n",
       "      <td>031242227X</td>\n",
       "      <td>9.780312e+12</td>\n",
       "      <td>Augusten Burroughs</td>\n",
       "      <td>...</td>\n",
       "      <td>11601</td>\n",
       "      <td>13569</td>\n",
       "      <td>27249</td>\n",
       "      <td>78405</td>\n",
       "      <td>105786</td>\n",
       "      <td>81379</td>\n",
       "      <td>https://s.gr-assets.com/assets/nophoto/book/11...</td>\n",
       "      <td>https://s.gr-assets.com/assets/nophoto/book/50...</td>\n",
       "      <td>031242227X</td>\n",
       "      <td>3.546584</td>\n",
       "    </tr>\n",
       "    <tr>\n",
       "      <th>29017</th>\n",
       "      <td>1</td>\n",
       "      <td>60</td>\n",
       "      <td>3</td>\n",
       "      <td>1618</td>\n",
       "      <td>1618</td>\n",
       "      <td>4259809</td>\n",
       "      <td>183</td>\n",
       "      <td>1400032717</td>\n",
       "      <td>9.781400e+12</td>\n",
       "      <td>Mark Haddon</td>\n",
       "      <td>...</td>\n",
       "      <td>35796</td>\n",
       "      <td>21049</td>\n",
       "      <td>58117</td>\n",
       "      <td>218218</td>\n",
       "      <td>355925</td>\n",
       "      <td>262481</td>\n",
       "      <td>https://images.gr-assets.com/books/1479863624m...</td>\n",
       "      <td>https://images.gr-assets.com/books/1479863624s...</td>\n",
       "      <td>1400032717</td>\n",
       "      <td>4.813187</td>\n",
       "    </tr>\n",
       "    <tr>\n",
       "      <th>38052</th>\n",
       "      <td>1</td>\n",
       "      <td>3889</td>\n",
       "      <td>3</td>\n",
       "      <td>77554</td>\n",
       "      <td>77554</td>\n",
       "      <td>1820281</td>\n",
       "      <td>71</td>\n",
       "      <td>014023313X</td>\n",
       "      <td>9.780140e+12</td>\n",
       "      <td>Carol Shields</td>\n",
       "      <td>...</td>\n",
       "      <td>1459</td>\n",
       "      <td>572</td>\n",
       "      <td>1931</td>\n",
       "      <td>7485</td>\n",
       "      <td>11710</td>\n",
       "      <td>8397</td>\n",
       "      <td>https://images.gr-assets.com/books/1285159303m...</td>\n",
       "      <td>https://images.gr-assets.com/books/1285159303s...</td>\n",
       "      <td>014023313X</td>\n",
       "      <td>2.436464</td>\n",
       "    </tr>\n",
       "    <tr>\n",
       "      <th>...</th>\n",
       "      <td>...</td>\n",
       "      <td>...</td>\n",
       "      <td>...</td>\n",
       "      <td>...</td>\n",
       "      <td>...</td>\n",
       "      <td>...</td>\n",
       "      <td>...</td>\n",
       "      <td>...</td>\n",
       "      <td>...</td>\n",
       "      <td>...</td>\n",
       "      <td>...</td>\n",
       "      <td>...</td>\n",
       "      <td>...</td>\n",
       "      <td>...</td>\n",
       "      <td>...</td>\n",
       "      <td>...</td>\n",
       "      <td>...</td>\n",
       "      <td>...</td>\n",
       "      <td>...</td>\n",
       "      <td>...</td>\n",
       "      <td>...</td>\n",
       "    </tr>\n",
       "    <tr>\n",
       "      <th>59977</th>\n",
       "      <td>53423</td>\n",
       "      <td>18</td>\n",
       "      <td>5</td>\n",
       "      <td>5</td>\n",
       "      <td>5</td>\n",
       "      <td>2402163</td>\n",
       "      <td>376</td>\n",
       "      <td>043965548X</td>\n",
       "      <td>9.780440e+12</td>\n",
       "      <td>J.K. Rowling, Mary GrandPré, Rufus Beck</td>\n",
       "      <td>...</td>\n",
       "      <td>36099</td>\n",
       "      <td>6716</td>\n",
       "      <td>20413</td>\n",
       "      <td>166129</td>\n",
       "      <td>509447</td>\n",
       "      <td>1266670</td>\n",
       "      <td>https://images.gr-assets.com/books/1499277281m...</td>\n",
       "      <td>https://images.gr-assets.com/books/1499277281s...</td>\n",
       "      <td>043965548X</td>\n",
       "      <td>3.533333</td>\n",
       "    </tr>\n",
       "    <tr>\n",
       "      <th>154513</th>\n",
       "      <td>53423</td>\n",
       "      <td>90</td>\n",
       "      <td>5</td>\n",
       "      <td>231804</td>\n",
       "      <td>231804</td>\n",
       "      <td>1426690</td>\n",
       "      <td>156</td>\n",
       "      <td>014038572X</td>\n",
       "      <td>9.780140e+12</td>\n",
       "      <td>S.E. Hinton</td>\n",
       "      <td>...</td>\n",
       "      <td>22662</td>\n",
       "      <td>10178</td>\n",
       "      <td>34346</td>\n",
       "      <td>134244</td>\n",
       "      <td>227250</td>\n",
       "      <td>274419</td>\n",
       "      <td>https://images.gr-assets.com/books/1442129426m...</td>\n",
       "      <td>https://images.gr-assets.com/books/1442129426s...</td>\n",
       "      <td>014038572X</td>\n",
       "      <td>4.460674</td>\n",
       "    </tr>\n",
       "    <tr>\n",
       "      <th>222792</th>\n",
       "      <td>53423</td>\n",
       "      <td>3773</td>\n",
       "      <td>4</td>\n",
       "      <td>37034</td>\n",
       "      <td>37034</td>\n",
       "      <td>2127172</td>\n",
       "      <td>90</td>\n",
       "      <td>1567921892</td>\n",
       "      <td>9.781568e+12</td>\n",
       "      <td>Susan Hill, John Lawrence</td>\n",
       "      <td>...</td>\n",
       "      <td>4070</td>\n",
       "      <td>732</td>\n",
       "      <td>3039</td>\n",
       "      <td>9986</td>\n",
       "      <td>11982</td>\n",
       "      <td>7622</td>\n",
       "      <td>https://images.gr-assets.com/books/1327869942m...</td>\n",
       "      <td>https://images.gr-assets.com/books/1327869942s...</td>\n",
       "      <td>1567921892</td>\n",
       "      <td>4.500000</td>\n",
       "    </tr>\n",
       "    <tr>\n",
       "      <th>262957</th>\n",
       "      <td>53424</td>\n",
       "      <td>8969</td>\n",
       "      <td>5</td>\n",
       "      <td>331701</td>\n",
       "      <td>331701</td>\n",
       "      <td>1986645</td>\n",
       "      <td>12</td>\n",
       "      <td>043933909X</td>\n",
       "      <td>9.780439e+12</td>\n",
       "      <td>Jon J. Muth</td>\n",
       "      <td>...</td>\n",
       "      <td>500</td>\n",
       "      <td>113</td>\n",
       "      <td>461</td>\n",
       "      <td>2574</td>\n",
       "      <td>4133</td>\n",
       "      <td>5722</td>\n",
       "      <td>https://s.gr-assets.com/assets/nophoto/book/11...</td>\n",
       "      <td>https://s.gr-assets.com/assets/nophoto/book/50...</td>\n",
       "      <td>043933909X</td>\n",
       "      <td>10.000000</td>\n",
       "    </tr>\n",
       "    <tr>\n",
       "      <th>59978</th>\n",
       "      <td>53424</td>\n",
       "      <td>18</td>\n",
       "      <td>5</td>\n",
       "      <td>5</td>\n",
       "      <td>5</td>\n",
       "      <td>2402163</td>\n",
       "      <td>376</td>\n",
       "      <td>043965548X</td>\n",
       "      <td>9.780440e+12</td>\n",
       "      <td>J.K. Rowling, Mary GrandPré, Rufus Beck</td>\n",
       "      <td>...</td>\n",
       "      <td>36099</td>\n",
       "      <td>6716</td>\n",
       "      <td>20413</td>\n",
       "      <td>166129</td>\n",
       "      <td>509447</td>\n",
       "      <td>1266670</td>\n",
       "      <td>https://images.gr-assets.com/books/1499277281m...</td>\n",
       "      <td>https://images.gr-assets.com/books/1499277281s...</td>\n",
       "      <td>043965548X</td>\n",
       "      <td>3.533333</td>\n",
       "    </tr>\n",
       "  </tbody>\n",
       "</table>\n",
       "<p>264108 rows × 27 columns</p>\n",
       "</div>"
      ],
      "text/plain": [
       "        user_id_gr  book_id_gr  rating_gr  goodreads_book_id_gr  \\\n",
       "0                1         212          3                  6867   \n",
       "17750            1         119          3                 38447   \n",
       "25293            1         238          2                242006   \n",
       "29017            1          60          3                  1618   \n",
       "38052            1        3889          3                 77554   \n",
       "...            ...         ...        ...                   ...   \n",
       "59977        53423          18          5                     5   \n",
       "154513       53423          90          5                231804   \n",
       "222792       53423        3773          4                 37034   \n",
       "262957       53424        8969          5                331701   \n",
       "59978        53424          18          5                     5   \n",
       "\n",
       "        best_book_id_gr  work_id_gr  books_count_gr     isbn_gr     isbn13_gr  \\\n",
       "0                  6867     2307233             155  038572179X  9.780386e+12   \n",
       "17750             38447     1119185             236  038549081X  9.780385e+12   \n",
       "25293            242006      828773              79  031242227X  9.780312e+12   \n",
       "29017              1618     4259809             183  1400032717  9.781400e+12   \n",
       "38052             77554     1820281              71  014023313X  9.780140e+12   \n",
       "...                 ...         ...             ...         ...           ...   \n",
       "59977                 5     2402163             376  043965548X  9.780440e+12   \n",
       "154513           231804     1426690             156  014038572X  9.780140e+12   \n",
       "222792            37034     2127172              90  1567921892  9.781568e+12   \n",
       "262957           331701     1986645              12  043933909X  9.780439e+12   \n",
       "59978                 5     2402163             376  043965548X  9.780440e+12   \n",
       "\n",
       "                                     authors_gr  ...  \\\n",
       "0                                    Ian McEwan  ...   \n",
       "17750                           Margaret Atwood  ...   \n",
       "25293                        Augusten Burroughs  ...   \n",
       "29017                               Mark Haddon  ...   \n",
       "38052                             Carol Shields  ...   \n",
       "...                                         ...  ...   \n",
       "59977   J.K. Rowling, Mary GrandPré, Rufus Beck  ...   \n",
       "154513                              S.E. Hinton  ...   \n",
       "222792                Susan Hill, John Lawrence  ...   \n",
       "262957                              Jon J. Muth  ...   \n",
       "59978   J.K. Rowling, Mary GrandPré, Rufus Beck  ...   \n",
       "\n",
       "        work_text_reviews_count_gr ratings_1_gr ratings_2_gr ratings_3_gr  \\\n",
       "0                            14815        11473        25462        77135   \n",
       "17750                        35925        13998        32561       116975   \n",
       "25293                        11601        13569        27249        78405   \n",
       "29017                        35796        21049        58117       218218   \n",
       "38052                         1459          572         1931         7485   \n",
       "...                            ...          ...          ...          ...   \n",
       "59977                        36099         6716        20413       166129   \n",
       "154513                       22662        10178        34346       134244   \n",
       "222792                        4070          732         3039         9986   \n",
       "262957                         500          113          461         2574   \n",
       "59978                        36099         6716        20413       166129   \n",
       "\n",
       "        ratings_4_gr  ratings_5_gr  \\\n",
       "0             134788        116800   \n",
       "17750         252942        267088   \n",
       "25293         105786         81379   \n",
       "29017         355925        262481   \n",
       "38052          11710          8397   \n",
       "...              ...           ...   \n",
       "59977         509447       1266670   \n",
       "154513        227250        274419   \n",
       "222792         11982          7622   \n",
       "262957          4133          5722   \n",
       "59978         509447       1266670   \n",
       "\n",
       "                                             image_url_gr  \\\n",
       "0       https://images.gr-assets.com/books/1320449708m...   \n",
       "17750   https://images.gr-assets.com/books/1498057733m...   \n",
       "25293   https://s.gr-assets.com/assets/nophoto/book/11...   \n",
       "29017   https://images.gr-assets.com/books/1479863624m...   \n",
       "38052   https://images.gr-assets.com/books/1285159303m...   \n",
       "...                                                   ...   \n",
       "59977   https://images.gr-assets.com/books/1499277281m...   \n",
       "154513  https://images.gr-assets.com/books/1442129426m...   \n",
       "222792  https://images.gr-assets.com/books/1327869942m...   \n",
       "262957  https://s.gr-assets.com/assets/nophoto/book/11...   \n",
       "59978   https://images.gr-assets.com/books/1499277281m...   \n",
       "\n",
       "                                       small_image_url_gr     ISBN_bx  \\\n",
       "0       https://images.gr-assets.com/books/1320449708s...  038572179X   \n",
       "17750   https://images.gr-assets.com/books/1498057733s...  038549081X   \n",
       "25293   https://s.gr-assets.com/assets/nophoto/book/50...  031242227X   \n",
       "29017   https://images.gr-assets.com/books/1479863624s...  1400032717   \n",
       "38052   https://images.gr-assets.com/books/1285159303s...  014023313X   \n",
       "...                                                   ...         ...   \n",
       "59977   https://images.gr-assets.com/books/1499277281s...  043965548X   \n",
       "154513  https://images.gr-assets.com/books/1442129426s...  014038572X   \n",
       "222792  https://images.gr-assets.com/books/1327869942s...  1567921892   \n",
       "262957  https://s.gr-assets.com/assets/nophoto/book/50...  043933909X   \n",
       "59978   https://images.gr-assets.com/books/1499277281s...  043965548X   \n",
       "\n",
       "        Book-Rating_bx  \n",
       "0             2.786517  \n",
       "17750         4.117647  \n",
       "25293         3.546584  \n",
       "29017         4.813187  \n",
       "38052         2.436464  \n",
       "...                ...  \n",
       "59977         3.533333  \n",
       "154513        4.460674  \n",
       "222792        4.500000  \n",
       "262957       10.000000  \n",
       "59978         3.533333  \n",
       "\n",
       "[264108 rows x 27 columns]"
      ]
     },
     "execution_count": 6,
     "metadata": {},
     "output_type": "execute_result"
    }
   ],
   "source": [
    "hr.input_df"
   ]
  },
  {
   "cell_type": "code",
   "execution_count": 50,
   "metadata": {},
   "outputs": [],
   "source": [
    "import os\n",
    "import urllib\n",
    "import zipfile\n",
    "import time\n",
    "import pickle \n",
    "import torch\n",
    "import numpy as np\n",
    "import pandas as pd\n",
    "import torch.nn as nn\n",
    "import torch.nn.functional as F\n",
    "import torch.optim as optim\n",
    "from torch.utils.data import DataLoader, TensorDataset\n",
    "from sklearn.model_selection import train_test_split\n",
    "from sklearn.preprocessing import LabelEncoder\n",
    "import matplotlib.pyplot as plt\n",
    "\n",
    "def map_columns_to_int(df: pd.DataFrame, save_column_name: str, mapping_dir: str = None):\n",
    "    \"\"\"\n",
    "    Map columns of strings in a DataFrame to integers.\n",
    "\n",
    "    Parameters:\n",
    "        df (pd.DataFrame): DataFrame containing the columns to be mapped.\n",
    "        column_names (list): List of column names to be mapped.\n",
    "        mapping_dir (str): Directory path to save the mapping dictionaries. If None, mappings won't be saved.\n",
    "\n",
    "    Returns:\n",
    "        pd.DataFrame: DataFrame with the mapped columns.\n",
    "    \"\"\"\n",
    "    for column_name in df.columns:\n",
    "        # Create a mapping dictionary that assigns a unique integer to each unique string in the column\n",
    "        unique_values = df[column_name].unique()\n",
    "        mapping_dict = {value: idx for idx, value in enumerate(unique_values)}\n",
    "\n",
    "        # Replace the strings in the column with their corresponding integer values\n",
    "        df[f\"{column_name}\"] = df[column_name].map(mapping_dict)\n",
    "\n",
    "        # Save the mapping dictionary to a file if mapping_dir is provided\n",
    "        if column_name == save_column_name:\n",
    "            mapping_file_path = f\"{mapping_dir}{column_name}_mapping.pkl\"\n",
    "            with open(mapping_file_path, 'wb') as f:\n",
    "                pickle.dump(mapping_dict, f)\n",
    "            print(f\"Mapping for column '{column_name}' saved to {mapping_file_path}\")\n",
    "\n",
    "    return df\n"
   ]
  },
  {
   "cell_type": "code",
   "execution_count": 51,
   "metadata": {},
   "outputs": [
    {
     "name": "stdout",
     "output_type": "stream",
     "text": [
      "Mapping for column 'isbn_gr' saved to data/processed/isbn_gr_mapping.pkl\n"
     ]
    }
   ],
   "source": [
    "# Call the function to map the 'Fruit' column and save the mapping\n",
    "mapping_file_path = 'fruit_mapping.pkl'\n",
    "df_mapped = map_columns_to_int(final_dataframe, save_column_name='isbn_gr', mapping_dir='data/processed/')"
   ]
  },
  {
   "cell_type": "code",
   "execution_count": 52,
   "metadata": {},
   "outputs": [
    {
     "data": {
      "text/html": [
       "<div>\n",
       "<style scoped>\n",
       "    .dataframe tbody tr th:only-of-type {\n",
       "        vertical-align: middle;\n",
       "    }\n",
       "\n",
       "    .dataframe tbody tr th {\n",
       "        vertical-align: top;\n",
       "    }\n",
       "\n",
       "    .dataframe thead th {\n",
       "        text-align: right;\n",
       "    }\n",
       "</style>\n",
       "<table border=\"1\" class=\"dataframe\">\n",
       "  <thead>\n",
       "    <tr style=\"text-align: right;\">\n",
       "      <th></th>\n",
       "      <th>user_id_gr</th>\n",
       "      <th>rating_gr</th>\n",
       "      <th>books_count_gr</th>\n",
       "      <th>isbn_gr</th>\n",
       "      <th>average_rating_gr</th>\n",
       "      <th>ratings_count_gr</th>\n",
       "      <th>work_ratings_count_gr</th>\n",
       "      <th>work_text_reviews_count_gr</th>\n",
       "      <th>ratings_1_gr</th>\n",
       "      <th>ratings_2_gr</th>\n",
       "      <th>ratings_3_gr</th>\n",
       "      <th>ratings_4_gr</th>\n",
       "      <th>ratings_5_gr</th>\n",
       "      <th>rating_bx</th>\n",
       "    </tr>\n",
       "  </thead>\n",
       "  <tbody>\n",
       "    <tr>\n",
       "      <th>0</th>\n",
       "      <td>0</td>\n",
       "      <td>0</td>\n",
       "      <td>0</td>\n",
       "      <td>0</td>\n",
       "      <td>0</td>\n",
       "      <td>0</td>\n",
       "      <td>0</td>\n",
       "      <td>0</td>\n",
       "      <td>0</td>\n",
       "      <td>0</td>\n",
       "      <td>0</td>\n",
       "      <td>0</td>\n",
       "      <td>0</td>\n",
       "      <td>0</td>\n",
       "    </tr>\n",
       "    <tr>\n",
       "      <th>17750</th>\n",
       "      <td>0</td>\n",
       "      <td>0</td>\n",
       "      <td>1</td>\n",
       "      <td>1</td>\n",
       "      <td>1</td>\n",
       "      <td>1</td>\n",
       "      <td>1</td>\n",
       "      <td>1</td>\n",
       "      <td>1</td>\n",
       "      <td>1</td>\n",
       "      <td>1</td>\n",
       "      <td>1</td>\n",
       "      <td>1</td>\n",
       "      <td>1</td>\n",
       "    </tr>\n",
       "    <tr>\n",
       "      <th>25293</th>\n",
       "      <td>0</td>\n",
       "      <td>1</td>\n",
       "      <td>2</td>\n",
       "      <td>2</td>\n",
       "      <td>2</td>\n",
       "      <td>2</td>\n",
       "      <td>2</td>\n",
       "      <td>2</td>\n",
       "      <td>2</td>\n",
       "      <td>2</td>\n",
       "      <td>2</td>\n",
       "      <td>2</td>\n",
       "      <td>2</td>\n",
       "      <td>2</td>\n",
       "    </tr>\n",
       "    <tr>\n",
       "      <th>29017</th>\n",
       "      <td>0</td>\n",
       "      <td>0</td>\n",
       "      <td>3</td>\n",
       "      <td>3</td>\n",
       "      <td>3</td>\n",
       "      <td>3</td>\n",
       "      <td>3</td>\n",
       "      <td>3</td>\n",
       "      <td>3</td>\n",
       "      <td>3</td>\n",
       "      <td>3</td>\n",
       "      <td>3</td>\n",
       "      <td>3</td>\n",
       "      <td>3</td>\n",
       "    </tr>\n",
       "    <tr>\n",
       "      <th>38052</th>\n",
       "      <td>0</td>\n",
       "      <td>0</td>\n",
       "      <td>4</td>\n",
       "      <td>4</td>\n",
       "      <td>4</td>\n",
       "      <td>4</td>\n",
       "      <td>4</td>\n",
       "      <td>4</td>\n",
       "      <td>4</td>\n",
       "      <td>4</td>\n",
       "      <td>4</td>\n",
       "      <td>4</td>\n",
       "      <td>4</td>\n",
       "      <td>4</td>\n",
       "    </tr>\n",
       "  </tbody>\n",
       "</table>\n",
       "</div>"
      ],
      "text/plain": [
       "       user_id_gr  rating_gr  books_count_gr  isbn_gr  average_rating_gr  \\\n",
       "0               0          0               0        0                  0   \n",
       "17750           0          0               1        1                  1   \n",
       "25293           0          1               2        2                  2   \n",
       "29017           0          0               3        3                  3   \n",
       "38052           0          0               4        4                  4   \n",
       "\n",
       "       ratings_count_gr  work_ratings_count_gr  work_text_reviews_count_gr  \\\n",
       "0                     0                      0                           0   \n",
       "17750                 1                      1                           1   \n",
       "25293                 2                      2                           2   \n",
       "29017                 3                      3                           3   \n",
       "38052                 4                      4                           4   \n",
       "\n",
       "       ratings_1_gr  ratings_2_gr  ratings_3_gr  ratings_4_gr  ratings_5_gr  \\\n",
       "0                 0             0             0             0             0   \n",
       "17750             1             1             1             1             1   \n",
       "25293             2             2             2             2             2   \n",
       "29017             3             3             3             3             3   \n",
       "38052             4             4             4             4             4   \n",
       "\n",
       "       rating_bx  \n",
       "0              0  \n",
       "17750          1  \n",
       "25293          2  \n",
       "29017          3  \n",
       "38052          4  "
      ]
     },
     "execution_count": 52,
     "metadata": {},
     "output_type": "execute_result"
    }
   ],
   "source": [
    "df_mapped.rename(columns={'Book-Rating_bx':'rating_bx'}, inplace=True)\n",
    "df_mapped.head()"
   ]
  },
  {
   "cell_type": "code",
   "execution_count": 59,
   "metadata": {},
   "outputs": [
    {
     "data": {
      "text/plain": [
       "rating_gr    int64\n",
       "dtype: object"
      ]
     },
     "execution_count": 59,
     "metadata": {},
     "output_type": "execute_result"
    }
   ],
   "source": [
    "y.dtypes"
   ]
  },
  {
   "cell_type": "code",
   "execution_count": 173,
   "metadata": {},
   "outputs": [
    {
     "data": {
      "text/html": [
       "<div>\n",
       "<style scoped>\n",
       "    .dataframe tbody tr th:only-of-type {\n",
       "        vertical-align: middle;\n",
       "    }\n",
       "\n",
       "    .dataframe tbody tr th {\n",
       "        vertical-align: top;\n",
       "    }\n",
       "\n",
       "    .dataframe thead th {\n",
       "        text-align: right;\n",
       "    }\n",
       "</style>\n",
       "<table border=\"1\" class=\"dataframe\">\n",
       "  <thead>\n",
       "    <tr style=\"text-align: right;\">\n",
       "      <th></th>\n",
       "      <th>user_id_gr</th>\n",
       "      <th>rating_gr</th>\n",
       "      <th>books_count_gr</th>\n",
       "      <th>isbn_gr</th>\n",
       "      <th>average_rating_gr</th>\n",
       "      <th>ratings_count_gr</th>\n",
       "      <th>work_ratings_count_gr</th>\n",
       "      <th>work_text_reviews_count_gr</th>\n",
       "      <th>ratings_1_gr</th>\n",
       "      <th>ratings_2_gr</th>\n",
       "      <th>ratings_3_gr</th>\n",
       "      <th>ratings_4_gr</th>\n",
       "      <th>ratings_5_gr</th>\n",
       "      <th>rating_bx</th>\n",
       "    </tr>\n",
       "  </thead>\n",
       "  <tbody>\n",
       "    <tr>\n",
       "      <th>0</th>\n",
       "      <td>0</td>\n",
       "      <td>0</td>\n",
       "      <td>0</td>\n",
       "      <td>0</td>\n",
       "      <td>0</td>\n",
       "      <td>0</td>\n",
       "      <td>0</td>\n",
       "      <td>0</td>\n",
       "      <td>0</td>\n",
       "      <td>0</td>\n",
       "      <td>0</td>\n",
       "      <td>0</td>\n",
       "      <td>0</td>\n",
       "      <td>0</td>\n",
       "    </tr>\n",
       "    <tr>\n",
       "      <th>17750</th>\n",
       "      <td>0</td>\n",
       "      <td>0</td>\n",
       "      <td>1</td>\n",
       "      <td>1</td>\n",
       "      <td>1</td>\n",
       "      <td>1</td>\n",
       "      <td>1</td>\n",
       "      <td>1</td>\n",
       "      <td>1</td>\n",
       "      <td>1</td>\n",
       "      <td>1</td>\n",
       "      <td>1</td>\n",
       "      <td>1</td>\n",
       "      <td>1</td>\n",
       "    </tr>\n",
       "    <tr>\n",
       "      <th>25293</th>\n",
       "      <td>0</td>\n",
       "      <td>1</td>\n",
       "      <td>2</td>\n",
       "      <td>2</td>\n",
       "      <td>2</td>\n",
       "      <td>2</td>\n",
       "      <td>2</td>\n",
       "      <td>2</td>\n",
       "      <td>2</td>\n",
       "      <td>2</td>\n",
       "      <td>2</td>\n",
       "      <td>2</td>\n",
       "      <td>2</td>\n",
       "      <td>2</td>\n",
       "    </tr>\n",
       "    <tr>\n",
       "      <th>29017</th>\n",
       "      <td>0</td>\n",
       "      <td>0</td>\n",
       "      <td>3</td>\n",
       "      <td>3</td>\n",
       "      <td>3</td>\n",
       "      <td>3</td>\n",
       "      <td>3</td>\n",
       "      <td>3</td>\n",
       "      <td>3</td>\n",
       "      <td>3</td>\n",
       "      <td>3</td>\n",
       "      <td>3</td>\n",
       "      <td>3</td>\n",
       "      <td>3</td>\n",
       "    </tr>\n",
       "    <tr>\n",
       "      <th>38052</th>\n",
       "      <td>0</td>\n",
       "      <td>0</td>\n",
       "      <td>4</td>\n",
       "      <td>4</td>\n",
       "      <td>4</td>\n",
       "      <td>4</td>\n",
       "      <td>4</td>\n",
       "      <td>4</td>\n",
       "      <td>4</td>\n",
       "      <td>4</td>\n",
       "      <td>4</td>\n",
       "      <td>4</td>\n",
       "      <td>4</td>\n",
       "      <td>4</td>\n",
       "    </tr>\n",
       "    <tr>\n",
       "      <th>...</th>\n",
       "      <td>...</td>\n",
       "      <td>...</td>\n",
       "      <td>...</td>\n",
       "      <td>...</td>\n",
       "      <td>...</td>\n",
       "      <td>...</td>\n",
       "      <td>...</td>\n",
       "      <td>...</td>\n",
       "      <td>...</td>\n",
       "      <td>...</td>\n",
       "      <td>...</td>\n",
       "      <td>...</td>\n",
       "      <td>...</td>\n",
       "      <td>...</td>\n",
       "    </tr>\n",
       "    <tr>\n",
       "      <th>59977</th>\n",
       "      <td>49684</td>\n",
       "      <td>3</td>\n",
       "      <td>8</td>\n",
       "      <td>8</td>\n",
       "      <td>8</td>\n",
       "      <td>8</td>\n",
       "      <td>8</td>\n",
       "      <td>8</td>\n",
       "      <td>8</td>\n",
       "      <td>8</td>\n",
       "      <td>8</td>\n",
       "      <td>8</td>\n",
       "      <td>8</td>\n",
       "      <td>8</td>\n",
       "    </tr>\n",
       "    <tr>\n",
       "      <th>154513</th>\n",
       "      <td>49684</td>\n",
       "      <td>3</td>\n",
       "      <td>76</td>\n",
       "      <td>98</td>\n",
       "      <td>1</td>\n",
       "      <td>98</td>\n",
       "      <td>98</td>\n",
       "      <td>98</td>\n",
       "      <td>97</td>\n",
       "      <td>97</td>\n",
       "      <td>98</td>\n",
       "      <td>98</td>\n",
       "      <td>98</td>\n",
       "      <td>74</td>\n",
       "    </tr>\n",
       "    <tr>\n",
       "      <th>222792</th>\n",
       "      <td>49684</td>\n",
       "      <td>2</td>\n",
       "      <td>56</td>\n",
       "      <td>230</td>\n",
       "      <td>82</td>\n",
       "      <td>229</td>\n",
       "      <td>230</td>\n",
       "      <td>225</td>\n",
       "      <td>213</td>\n",
       "      <td>224</td>\n",
       "      <td>228</td>\n",
       "      <td>230</td>\n",
       "      <td>228</td>\n",
       "      <td>30</td>\n",
       "    </tr>\n",
       "    <tr>\n",
       "      <th>262957</th>\n",
       "      <td>49685</td>\n",
       "      <td>3</td>\n",
       "      <td>127</td>\n",
       "      <td>388</td>\n",
       "      <td>60</td>\n",
       "      <td>387</td>\n",
       "      <td>388</td>\n",
       "      <td>356</td>\n",
       "      <td>250</td>\n",
       "      <td>367</td>\n",
       "      <td>377</td>\n",
       "      <td>385</td>\n",
       "      <td>384</td>\n",
       "      <td>56</td>\n",
       "    </tr>\n",
       "    <tr>\n",
       "      <th>59978</th>\n",
       "      <td>49685</td>\n",
       "      <td>3</td>\n",
       "      <td>8</td>\n",
       "      <td>8</td>\n",
       "      <td>8</td>\n",
       "      <td>8</td>\n",
       "      <td>8</td>\n",
       "      <td>8</td>\n",
       "      <td>8</td>\n",
       "      <td>8</td>\n",
       "      <td>8</td>\n",
       "      <td>8</td>\n",
       "      <td>8</td>\n",
       "      <td>8</td>\n",
       "    </tr>\n",
       "  </tbody>\n",
       "</table>\n",
       "<p>264108 rows × 14 columns</p>\n",
       "</div>"
      ],
      "text/plain": [
       "        user_id_gr  rating_gr  books_count_gr  isbn_gr  average_rating_gr  \\\n",
       "0                0          0               0        0                  0   \n",
       "17750            0          0               1        1                  1   \n",
       "25293            0          1               2        2                  2   \n",
       "29017            0          0               3        3                  3   \n",
       "38052            0          0               4        4                  4   \n",
       "...            ...        ...             ...      ...                ...   \n",
       "59977        49684          3               8        8                  8   \n",
       "154513       49684          3              76       98                  1   \n",
       "222792       49684          2              56      230                 82   \n",
       "262957       49685          3             127      388                 60   \n",
       "59978        49685          3               8        8                  8   \n",
       "\n",
       "        ratings_count_gr  work_ratings_count_gr  work_text_reviews_count_gr  \\\n",
       "0                      0                      0                           0   \n",
       "17750                  1                      1                           1   \n",
       "25293                  2                      2                           2   \n",
       "29017                  3                      3                           3   \n",
       "38052                  4                      4                           4   \n",
       "...                  ...                    ...                         ...   \n",
       "59977                  8                      8                           8   \n",
       "154513                98                     98                          98   \n",
       "222792               229                    230                         225   \n",
       "262957               387                    388                         356   \n",
       "59978                  8                      8                           8   \n",
       "\n",
       "        ratings_1_gr  ratings_2_gr  ratings_3_gr  ratings_4_gr  ratings_5_gr  \\\n",
       "0                  0             0             0             0             0   \n",
       "17750              1             1             1             1             1   \n",
       "25293              2             2             2             2             2   \n",
       "29017              3             3             3             3             3   \n",
       "38052              4             4             4             4             4   \n",
       "...              ...           ...           ...           ...           ...   \n",
       "59977              8             8             8             8             8   \n",
       "154513            97            97            98            98            98   \n",
       "222792           213           224           228           230           228   \n",
       "262957           250           367           377           385           384   \n",
       "59978              8             8             8             8             8   \n",
       "\n",
       "        rating_bx  \n",
       "0               0  \n",
       "17750           1  \n",
       "25293           2  \n",
       "29017           3  \n",
       "38052           4  \n",
       "...           ...  \n",
       "59977           8  \n",
       "154513         74  \n",
       "222792         30  \n",
       "262957         56  \n",
       "59978           8  \n",
       "\n",
       "[264108 rows x 14 columns]"
      ]
     },
     "execution_count": 173,
     "metadata": {},
     "output_type": "execute_result"
    }
   ],
   "source": [
    "df_mapped"
   ]
  },
  {
   "cell_type": "code",
   "execution_count": 62,
   "metadata": {},
   "outputs": [],
   "source": [
    "X = df_mapped.loc[:, ['user_id_gr', 'isbn_gr','rating_bx']]\n",
    "y = df_mapped.loc[:, ['rating_gr']]\n",
    "X_train, X_val, y_train, y_val = train_test_split(X,y,random_state=0, test_size=0.2)"
   ]
  },
  {
   "cell_type": "code",
   "execution_count": 63,
   "metadata": {},
   "outputs": [],
   "source": [
    "def prep_dataloaders(X_train,y_train,X_val,y_val,batch_size):\n",
    "    # Convert training and test data to TensorDatasets\n",
    "    trainset = TensorDataset(torch.from_numpy(np.array(X_train)).long(), \n",
    "                            torch.from_numpy(np.array(y_train)).float())\n",
    "    valset = TensorDataset(torch.from_numpy(np.array(X_val)).long(), \n",
    "                            torch.from_numpy(np.array(y_val)).float())\n",
    "\n",
    "    # Create Dataloaders for our training and test data to allow us to iterate over minibatches \n",
    "    trainloader = torch.utils.data.DataLoader(trainset, batch_size=batch_size, shuffle=True)\n",
    "    valloader = torch.utils.data.DataLoader(valset, batch_size=batch_size, shuffle=False)\n",
    "\n",
    "    return trainloader, valloader\n",
    "\n",
    "batchsize = 128\n",
    "trainloader,valloader = prep_dataloaders(X_train,y_train,X_val,y_val,batchsize)"
   ]
  },
  {
   "cell_type": "code",
   "execution_count": 64,
   "metadata": {},
   "outputs": [],
   "source": [
    "class NNHybridFiltering(nn.Module):\n",
    "    \n",
    "    def __init__(self, n_users, n_isbn, n_bxrating, embdim_users, embdim_isbn, embdim_bxrating, n_activations, rating_range):\n",
    "        super().__init__()\n",
    "        self.user_embeddings = nn.Embedding(num_embeddings=n_users,embedding_dim=embdim_users)\n",
    "        self.item_embeddings = nn.Embedding(num_embeddings=n_isbn,embedding_dim=embdim_isbn)\n",
    "        self.genre_embeddings = nn.Embedding(num_embeddings=n_bxrating,embedding_dim=embdim_bxrating)\n",
    "        self.fc1 = nn.Linear(embdim_users+embdim_isbn+embdim_bxrating,n_activations)\n",
    "        self.fc2 = nn.Linear(n_activations,1)\n",
    "        self.rating_range = rating_range\n",
    "\n",
    "    def forward(self, X):\n",
    "        # Get embeddings for minibatch\n",
    "        embedded_users = self.user_embeddings(X[:,0])\n",
    "        embedded_isbn = self.item_embeddings(X[:,1])\n",
    "        embedded_bxrating = self.genre_embeddings(X[:,2])\n",
    "        # Concatenate user, item and genre embeddings\n",
    "        embeddings = torch.cat([embedded_users,embedded_isbn,embedded_bxrating],dim=1)\n",
    "        # Pass embeddings through network\n",
    "        preds = self.fc1(embeddings)\n",
    "        preds = F.relu(preds)\n",
    "        preds = self.fc2(preds)\n",
    "        # Scale predicted ratings to target-range [low,high]\n",
    "        preds = torch.sigmoid(preds) * (self.rating_range[1]-self.rating_range[0]) + self.rating_range[0]\n",
    "        return preds\n",
    "        "
   ]
  },
  {
   "cell_type": "code",
   "execution_count": 67,
   "metadata": {},
   "outputs": [],
   "source": [
    "def train_model(model, criterion, optimizer, dataloaders, device, num_epochs=5, scheduler=None):\n",
    "    model = model.to(device) # Send model to GPU if available\n",
    "    since = time.time()\n",
    "\n",
    "    costpaths = {'train':[],'val':[]}\n",
    "\n",
    "    for epoch in range(num_epochs):\n",
    "        print('Epoch {}/{}'.format(epoch, num_epochs - 1))\n",
    "        print('-' * 10)\n",
    "\n",
    "        # Each epoch has a training and validation phase\n",
    "        for phase in ['train', 'val']:\n",
    "            if phase == 'train':\n",
    "                model.train()  # Set model to training mode\n",
    "            else:\n",
    "                model.eval()   # Set model to evaluate mode\n",
    "\n",
    "            running_loss = 0.0\n",
    "\n",
    "            # Get the inputs and labels, and send to GPU if available\n",
    "            for (inputs,labels) in dataloaders[phase]:\n",
    "                inputs = inputs.to(device)\n",
    "                labels = labels.to(device)\n",
    "                labels = labels.squeeze(1)\n",
    "                # Zero the weight gradients\n",
    "                optimizer.zero_grad()\n",
    "\n",
    "                # Forward pass to get outputs and calculate loss\n",
    "                # Track gradient only for training data\n",
    "                with torch.set_grad_enabled(phase == 'train'):\n",
    "                    outputs = model.forward(inputs).view(-1)\n",
    "                    loss = criterion(outputs, labels)\n",
    "\n",
    "                    # Backpropagation to get the gradients with respect to each weight\n",
    "                    # Only if in train\n",
    "                    if phase == 'train':\n",
    "                        loss.backward()\n",
    "                        # Update the weights\n",
    "                        optimizer.step()\n",
    "\n",
    "                # Convert loss into a scalar and add it to running_loss\n",
    "                running_loss += np.sqrt(loss.item()) * labels.size(0)\n",
    "\n",
    "            # Step along learning rate scheduler when in train\n",
    "            if (phase == 'train') and (scheduler is not None):\n",
    "                scheduler.step()\n",
    "\n",
    "            # Calculate and display average loss and accuracy for the epoch\n",
    "            epoch_loss = running_loss / len(dataloaders[phase].dataset)\n",
    "            costpaths[phase].append(epoch_loss)\n",
    "            print('{} loss: {:.4f}'.format(phase, epoch_loss))\n",
    "\n",
    "    time_elapsed = time.time() - since\n",
    "    print('Training complete in {:.0f}m {:.0f}s'.format(\n",
    "        time_elapsed // 60, time_elapsed % 60))\n",
    "\n",
    "    return costpaths"
   ]
  },
  {
   "cell_type": "code",
   "execution_count": 166,
   "metadata": {},
   "outputs": [],
   "source": [
    "torch.save(model, 'models/hybrid_recommender.pkl')"
   ]
  },
  {
   "cell_type": "code",
   "execution_count": 172,
   "metadata": {},
   "outputs": [
    {
     "data": {
      "text/plain": [
       "dict"
      ]
     },
     "execution_count": 172,
     "metadata": {},
     "output_type": "execute_result"
    }
   ],
   "source": [
    "type(cost_paths)"
   ]
  },
  {
   "cell_type": "code",
   "execution_count": 165,
   "metadata": {},
   "outputs": [
    {
     "data": {
      "text/plain": [
       "{'train': [1.1403913739969505,\n",
       "  1.132776576739605,\n",
       "  1.1155160100094141,\n",
       "  1.0741718728051977,\n",
       "  1.0338396213810694,\n",
       "  1.0154466358964702,\n",
       "  1.0063411795198693,\n",
       "  0.9984921283539584,\n",
       "  0.9922154265627999,\n",
       "  0.9891674907833722],\n",
       " 'val': [1.1372237361590756,\n",
       "  1.1321012967716966,\n",
       "  1.1048318754795088,\n",
       "  1.0913691876942555,\n",
       "  1.0899176245831188,\n",
       "  1.0942864167739264,\n",
       "  1.0942790638733462,\n",
       "  1.0950793111746717,\n",
       "  1.1000072152343632,\n",
       "  1.1003533173409459]}"
      ]
     },
     "execution_count": 165,
     "metadata": {},
     "output_type": "execute_result"
    }
   ],
   "source": [
    "cost_paths"
   ]
  },
  {
   "cell_type": "code",
   "execution_count": 69,
   "metadata": {},
   "outputs": [
    {
     "name": "stdout",
     "output_type": "stream",
     "text": [
      "Epoch 0/9\n",
      "----------\n",
      "train loss: 1.1404\n",
      "val loss: 1.1372\n",
      "Epoch 1/9\n",
      "----------\n",
      "train loss: 1.1328\n",
      "val loss: 1.1321\n",
      "Epoch 2/9\n",
      "----------\n",
      "train loss: 1.1155\n",
      "val loss: 1.1048\n",
      "Epoch 3/9\n",
      "----------\n",
      "train loss: 1.0742\n",
      "val loss: 1.0914\n",
      "Epoch 4/9\n",
      "----------\n",
      "train loss: 1.0338\n",
      "val loss: 1.0899\n",
      "Epoch 5/9\n",
      "----------\n",
      "train loss: 1.0154\n",
      "val loss: 1.0943\n",
      "Epoch 6/9\n",
      "----------\n",
      "train loss: 1.0063\n",
      "val loss: 1.0943\n",
      "Epoch 7/9\n",
      "----------\n",
      "train loss: 0.9985\n",
      "val loss: 1.0951\n",
      "Epoch 8/9\n",
      "----------\n",
      "train loss: 0.9922\n",
      "val loss: 1.1000\n",
      "Epoch 9/9\n",
      "----------\n",
      "train loss: 0.9892\n",
      "val loss: 1.1004\n",
      "Training complete in 3m 45s\n"
     ]
    }
   ],
   "source": [
    "# Train the model\n",
    "dataloaders = {'train':trainloader, 'val':valloader}\n",
    "\n",
    "n_users = X.loc[:,'user_id_gr'].max()+1\n",
    "n_isbn = X.loc[:,'isbn_gr'].max()+1\n",
    "n_bxrating = X.loc[:,'rating_bx'].max()+1\n",
    "\n",
    "model = NNHybridFiltering(n_users,\n",
    "                       n_isbn,\n",
    "                       n_bxrating,\n",
    "                       embdim_users=50, \n",
    "                       embdim_isbn=50, \n",
    "                       embdim_bxrating=25,\n",
    "                       n_activations = 100,\n",
    "                       rating_range=[0.,4.])\n",
    "criterion = nn.MSELoss()\n",
    "lr=0.001\n",
    "n_epochs=10\n",
    "wd=1e-3\n",
    "optimizer = optim.Adam(model.parameters(), lr=lr, weight_decay=wd)\n",
    "device = torch.device(\"cuda\" if torch.cuda.is_available() else \"cpu\")\n",
    "\n",
    "cost_paths = train_model(model,criterion,optimizer,dataloaders, device,n_epochs, scheduler=None)"
   ]
  },
  {
   "cell_type": "code",
   "execution_count": 168,
   "metadata": {},
   "outputs": [],
   "source": [
    "model = torch.load('models/hybrid_recommender.pkl')"
   ]
  },
  {
   "cell_type": "code",
   "execution_count": 73,
   "metadata": {},
   "outputs": [
    {
     "name": "stdout",
     "output_type": "stream",
     "text": [
      "Predicted rating is 1.9\n"
     ]
    }
   ],
   "source": [
    "def predict_rating(model, userid, isbn, bxrating, device):\n",
    "    # Get predicted rating\n",
    "    model = model.to(device)\n",
    "    with torch.no_grad():\n",
    "        model.eval()\n",
    "        X = torch.Tensor([userid,isbn,bxrating]).long().view(1,-1)\n",
    "        X = X.to(device)\n",
    "        pred = model.forward(X)\n",
    "        return pred\n",
    "\n",
    "# Get the predicted rating for a random user-item pair\n",
    "rating = predict_rating(model,userid=5,isbn=1,bxrating=1, device=device)\n",
    "print('Predicted rating is {:.1f}'.format(rating.detach().cpu().item()))"
   ]
  },
  {
   "cell_type": "code",
   "execution_count": 111,
   "metadata": {},
   "outputs": [],
   "source": [
    "from tqdm import tqdm"
   ]
  },
  {
   "cell_type": "code",
   "execution_count": 169,
   "metadata": {},
   "outputs": [],
   "source": [
    "def generate_recommendations(df, model, userid, n_recs, device):\n",
    "\n",
    "    pred_ratings = []\n",
    "    books_read = df.loc[df['user_id_gr'] == userid, 'isbn_gr'].values.tolist()\n",
    "    isbns = [x for x in df['isbn_gr'].unique().tolist() if x not in books_read]\n",
    "\n",
    "    for isbn in tqdm(isbns):\n",
    "        bxrating = df.loc[df['isbn_gr'] == isbn, 'rating_bx'].values[0]\n",
    "        pred = predict_rating(model, userid = userid, isbn = isbn, bxrating = bxrating, device=device)\n",
    "        pred_ratings.append([isbn,pred.detach().cpu().item()])\n",
    "        \n",
    "    idxs = np.argsort(np.array(pred_ratings)[:,1])\n",
    "    recs = np.array(pred_ratings)[idxs][-n_recs:,0]\n",
    "\n",
    "    return recs"
   ]
  },
  {
   "cell_type": "code",
   "execution_count": 170,
   "metadata": {},
   "outputs": [
    {
     "name": "stderr",
     "output_type": "stream",
     "text": [
      "100%|██████████| 394/394 [00:00<00:00, 2393.06it/s]\n"
     ]
    },
    {
     "data": {
      "text/plain": [
       "array([ 16., 151., 149.])"
      ]
     },
     "execution_count": 170,
     "metadata": {},
     "output_type": "execute_result"
    }
   ],
   "source": [
    "recs = generate_recommendations(df_mapped, model, 1, 3, device)"
   ]
  },
  {
   "cell_type": "code",
   "execution_count": 74,
   "metadata": {},
   "outputs": [],
   "source": [
    "data = {'isbn_gr': [1, 2, 3, 4, 5],\n",
    "        'isbn_gr': [1, 2, 3, 4, 5]}\n",
    "books = pd.DataFrame(data)"
   ]
  },
  {
   "cell_type": "code",
   "execution_count": 91,
   "metadata": {},
   "outputs": [
    {
     "data": {
      "text/plain": [
       "[7, 8, 9]"
      ]
     },
     "execution_count": 91,
     "metadata": {},
     "output_type": "execute_result"
    }
   ],
   "source": [
    "df_mapped.loc[df_mapped['user_id_gr'] == 1, 'isbn_gr'].values.tolist()"
   ]
  },
  {
   "cell_type": "code",
   "execution_count": 89,
   "metadata": {},
   "outputs": [
    {
     "data": {
      "text/html": [
       "<div>\n",
       "<style scoped>\n",
       "    .dataframe tbody tr th:only-of-type {\n",
       "        vertical-align: middle;\n",
       "    }\n",
       "\n",
       "    .dataframe tbody tr th {\n",
       "        vertical-align: top;\n",
       "    }\n",
       "\n",
       "    .dataframe thead th {\n",
       "        text-align: right;\n",
       "    }\n",
       "</style>\n",
       "<table border=\"1\" class=\"dataframe\">\n",
       "  <thead>\n",
       "    <tr style=\"text-align: right;\">\n",
       "      <th></th>\n",
       "      <th>user_id_gr</th>\n",
       "      <th>rating_gr</th>\n",
       "      <th>books_count_gr</th>\n",
       "      <th>isbn_gr</th>\n",
       "      <th>average_rating_gr</th>\n",
       "      <th>ratings_count_gr</th>\n",
       "      <th>work_ratings_count_gr</th>\n",
       "      <th>work_text_reviews_count_gr</th>\n",
       "      <th>ratings_1_gr</th>\n",
       "      <th>ratings_2_gr</th>\n",
       "      <th>ratings_3_gr</th>\n",
       "      <th>ratings_4_gr</th>\n",
       "      <th>ratings_5_gr</th>\n",
       "      <th>rating_bx</th>\n",
       "    </tr>\n",
       "  </thead>\n",
       "  <tbody>\n",
       "    <tr>\n",
       "      <th>43032</th>\n",
       "      <td>1</td>\n",
       "      <td>0</td>\n",
       "      <td>7</td>\n",
       "      <td>7</td>\n",
       "      <td>7</td>\n",
       "      <td>7</td>\n",
       "      <td>7</td>\n",
       "      <td>7</td>\n",
       "      <td>7</td>\n",
       "      <td>7</td>\n",
       "      <td>7</td>\n",
       "      <td>7</td>\n",
       "      <td>7</td>\n",
       "      <td>7</td>\n",
       "    </tr>\n",
       "    <tr>\n",
       "      <th>44124</th>\n",
       "      <td>1</td>\n",
       "      <td>3</td>\n",
       "      <td>8</td>\n",
       "      <td>8</td>\n",
       "      <td>8</td>\n",
       "      <td>8</td>\n",
       "      <td>8</td>\n",
       "      <td>8</td>\n",
       "      <td>8</td>\n",
       "      <td>8</td>\n",
       "      <td>8</td>\n",
       "      <td>8</td>\n",
       "      <td>8</td>\n",
       "      <td>8</td>\n",
       "    </tr>\n",
       "    <tr>\n",
       "      <th>43952</th>\n",
       "      <td>1</td>\n",
       "      <td>2</td>\n",
       "      <td>9</td>\n",
       "      <td>9</td>\n",
       "      <td>9</td>\n",
       "      <td>9</td>\n",
       "      <td>9</td>\n",
       "      <td>9</td>\n",
       "      <td>9</td>\n",
       "      <td>9</td>\n",
       "      <td>9</td>\n",
       "      <td>9</td>\n",
       "      <td>9</td>\n",
       "      <td>9</td>\n",
       "    </tr>\n",
       "  </tbody>\n",
       "</table>\n",
       "</div>"
      ],
      "text/plain": [
       "       user_id_gr  rating_gr  books_count_gr  isbn_gr  average_rating_gr  \\\n",
       "43032           1          0               7        7                  7   \n",
       "44124           1          3               8        8                  8   \n",
       "43952           1          2               9        9                  9   \n",
       "\n",
       "       ratings_count_gr  work_ratings_count_gr  work_text_reviews_count_gr  \\\n",
       "43032                 7                      7                           7   \n",
       "44124                 8                      8                           8   \n",
       "43952                 9                      9                           9   \n",
       "\n",
       "       ratings_1_gr  ratings_2_gr  ratings_3_gr  ratings_4_gr  ratings_5_gr  \\\n",
       "43032             7             7             7             7             7   \n",
       "44124             8             8             8             8             8   \n",
       "43952             9             9             9             9             9   \n",
       "\n",
       "       rating_bx  \n",
       "43032          7  \n",
       "44124          8  \n",
       "43952          9  "
      ]
     },
     "execution_count": 89,
     "metadata": {},
     "output_type": "execute_result"
    }
   ],
   "source": [
    "user_df = df_mapped.loc[df_mapped['user_id_gr'] == 1]\n",
    "user_df"
   ]
  },
  {
   "cell_type": "code",
   "execution_count": 4,
   "metadata": {},
   "outputs": [
    {
     "ename": "NameError",
     "evalue": "name 'df' is not defined",
     "output_type": "error",
     "traceback": [
      "\u001b[1;31m---------------------------------------------------------------------------\u001b[0m",
      "\u001b[1;31mNameError\u001b[0m                                 Traceback (most recent call last)",
      "\u001b[1;32mc:\\Users\\19105\\Documents\\githubPersonal\\Book-Recommendation-System\\test_model.ipynb Cell 32\u001b[0m in \u001b[0;36m<cell line: 1>\u001b[1;34m()\u001b[0m\n\u001b[1;32m----> <a href='vscode-notebook-cell:/c%3A/Users/19105/Documents/githubPersonal/Book-Recommendation-System/test_model.ipynb#Y104sZmlsZQ%3D%3D?line=0'>1</a>\u001b[0m df\n",
      "\u001b[1;31mNameError\u001b[0m: name 'df' is not defined"
     ]
    }
   ],
   "source": [
    "df"
   ]
  },
  {
   "cell_type": "code",
   "execution_count": 15,
   "metadata": {},
   "outputs": [],
   "source": [
    "isbn_map_path = 'data/processed/isbn_gr_mapping.pkl'\n",
    "isbn_ref_path = 'data/processed/book_reference_dataframe.pkl'\n",
    "import pickle\n",
    "# Load the pickle file into a dictionary\n",
    "with open(isbn_map_path, 'rb') as file:\n",
    "    isbn_map = pickle.load(file)\n",
    "isbn_map = {value: key for key, value in isbn_map.items()}\n",
    "isbn_ref = pd.read_pickle(isbn_ref_path)"
   ]
  },
  {
   "cell_type": "code",
   "execution_count": 16,
   "metadata": {},
   "outputs": [
    {
     "data": {
      "text/html": [
       "<div>\n",
       "<style scoped>\n",
       "    .dataframe tbody tr th:only-of-type {\n",
       "        vertical-align: middle;\n",
       "    }\n",
       "\n",
       "    .dataframe tbody tr th {\n",
       "        vertical-align: top;\n",
       "    }\n",
       "\n",
       "    .dataframe thead th {\n",
       "        text-align: right;\n",
       "    }\n",
       "</style>\n",
       "<table border=\"1\" class=\"dataframe\">\n",
       "  <thead>\n",
       "    <tr style=\"text-align: right;\">\n",
       "      <th></th>\n",
       "      <th>isbn_gr</th>\n",
       "      <th>authors_gr</th>\n",
       "      <th>title_gr</th>\n",
       "      <th>original_publication_year_gr</th>\n",
       "    </tr>\n",
       "  </thead>\n",
       "  <tbody>\n",
       "    <tr>\n",
       "      <th>0</th>\n",
       "      <td>038572179X</td>\n",
       "      <td>Ian McEwan</td>\n",
       "      <td>Atonement</td>\n",
       "      <td>2001.0</td>\n",
       "    </tr>\n",
       "    <tr>\n",
       "      <th>17750</th>\n",
       "      <td>038549081X</td>\n",
       "      <td>Margaret Atwood</td>\n",
       "      <td>The Handmaid's Tale</td>\n",
       "      <td>1985.0</td>\n",
       "    </tr>\n",
       "    <tr>\n",
       "      <th>25293</th>\n",
       "      <td>031242227X</td>\n",
       "      <td>Augusten Burroughs</td>\n",
       "      <td>Running with Scissors</td>\n",
       "      <td>2002.0</td>\n",
       "    </tr>\n",
       "    <tr>\n",
       "      <th>29017</th>\n",
       "      <td>1400032717</td>\n",
       "      <td>Mark Haddon</td>\n",
       "      <td>The Curious Incident of the Dog in the Night-Time</td>\n",
       "      <td>2003.0</td>\n",
       "    </tr>\n",
       "    <tr>\n",
       "      <th>38052</th>\n",
       "      <td>014023313X</td>\n",
       "      <td>Carol Shields</td>\n",
       "      <td>The Stone Diaries</td>\n",
       "      <td>1993.0</td>\n",
       "    </tr>\n",
       "  </tbody>\n",
       "</table>\n",
       "</div>"
      ],
      "text/plain": [
       "          isbn_gr          authors_gr  \\\n",
       "0      038572179X          Ian McEwan   \n",
       "17750  038549081X     Margaret Atwood   \n",
       "25293  031242227X  Augusten Burroughs   \n",
       "29017  1400032717         Mark Haddon   \n",
       "38052  014023313X       Carol Shields   \n",
       "\n",
       "                                                title_gr  \\\n",
       "0                                              Atonement   \n",
       "17750                                The Handmaid's Tale   \n",
       "25293                              Running with Scissors   \n",
       "29017  The Curious Incident of the Dog in the Night-Time   \n",
       "38052                                  The Stone Diaries   \n",
       "\n",
       "       original_publication_year_gr  \n",
       "0                            2001.0  \n",
       "17750                        1985.0  \n",
       "25293                        2002.0  \n",
       "29017                        2003.0  \n",
       "38052                        1993.0  "
      ]
     },
     "execution_count": 16,
     "metadata": {},
     "output_type": "execute_result"
    }
   ],
   "source": [
    "isbn_ref.head()"
   ]
  },
  {
   "cell_type": "code",
   "execution_count": 19,
   "metadata": {},
   "outputs": [
    {
     "data": {
      "text/plain": [
       "('Margaret Atwood', \"The Handmaid's Tale\", 1985.0)"
      ]
     },
     "execution_count": 19,
     "metadata": {},
     "output_type": "execute_result"
    }
   ],
   "source": [
    "ref_row = isbn_ref[isbn_ref['isbn_gr'] == isbn_map[]].iloc[0]\n",
    "author = ref_row['authors_gr']\n",
    "title = ref_row['title_gr']\n",
    "year = ref_row['original_publication_year_gr']\n",
    "author, title, year"
   ]
  },
  {
   "cell_type": "code",
   "execution_count": 117,
   "metadata": {},
   "outputs": [],
   "source": [
    "file_path = 'data/processed/isbn_gr_mapping.pkl'\n",
    "\n",
    "# Load the pickle file into a dictionary\n",
    "with open(file_path, 'rb') as file:\n",
    "    your_dict = pickle.load(file)"
   ]
  },
  {
   "cell_type": "code",
   "execution_count": null,
   "metadata": {},
   "outputs": [],
   "source": [
    "def load_isbn_map():\n",
    "    isbn_map_path = 'data/processed/isbn_gr_mapping.pkl'\n",
    "    with open(isbn_map_path, 'rb') as file:\n",
    "        isbn_map = pickle.load(file)\n",
    "    isbn_map = {value: key for key, value in isbn_map.items()}\n",
    "\n",
    "def load_isbn_df():\n",
    "    isbn_ref_path = 'data/processed/book_reference_dataframe.pkl'\n",
    "    isbn_ref = pd.read_pickle(isbn_ref_path)\n",
    "    return isbn_ref"
   ]
  },
  {
   "cell_type": "code",
   "execution_count": 1,
   "metadata": {},
   "outputs": [],
   "source": [
    "from hybrid_filtering_recommender import HybridFilteringRecommender"
   ]
  },
  {
   "cell_type": "code",
   "execution_count": 2,
   "metadata": {},
   "outputs": [],
   "source": [
    "import pandas as pd\n",
    "ref_path = 'data/processed/final_dataframe.pkl'\n",
    "final_dataframe = pd.read_pickle(ref_path)\n",
    "hfr = HybridFilteringRecommender(final_dataframe)"
   ]
  },
  {
   "cell_type": "code",
   "execution_count": 5,
   "metadata": {},
   "outputs": [
    {
     "data": {
      "text/html": [
       "<div>\n",
       "<style scoped>\n",
       "    .dataframe tbody tr th:only-of-type {\n",
       "        vertical-align: middle;\n",
       "    }\n",
       "\n",
       "    .dataframe tbody tr th {\n",
       "        vertical-align: top;\n",
       "    }\n",
       "\n",
       "    .dataframe thead th {\n",
       "        text-align: right;\n",
       "    }\n",
       "</style>\n",
       "<table border=\"1\" class=\"dataframe\">\n",
       "  <thead>\n",
       "    <tr style=\"text-align: right;\">\n",
       "      <th></th>\n",
       "      <th>user_id_gr</th>\n",
       "      <th>isbn_gr</th>\n",
       "      <th>rating_bx</th>\n",
       "      <th>rating_gr</th>\n",
       "    </tr>\n",
       "  </thead>\n",
       "  <tbody>\n",
       "    <tr>\n",
       "      <th>0</th>\n",
       "      <td>1</td>\n",
       "      <td>038572179X</td>\n",
       "      <td>2.786517</td>\n",
       "      <td>3</td>\n",
       "    </tr>\n",
       "    <tr>\n",
       "      <th>17750</th>\n",
       "      <td>1</td>\n",
       "      <td>038549081X</td>\n",
       "      <td>4.117647</td>\n",
       "      <td>3</td>\n",
       "    </tr>\n",
       "    <tr>\n",
       "      <th>25293</th>\n",
       "      <td>1</td>\n",
       "      <td>031242227X</td>\n",
       "      <td>3.546584</td>\n",
       "      <td>2</td>\n",
       "    </tr>\n",
       "    <tr>\n",
       "      <th>29017</th>\n",
       "      <td>1</td>\n",
       "      <td>1400032717</td>\n",
       "      <td>4.813187</td>\n",
       "      <td>3</td>\n",
       "    </tr>\n",
       "    <tr>\n",
       "      <th>38052</th>\n",
       "      <td>1</td>\n",
       "      <td>014023313X</td>\n",
       "      <td>2.436464</td>\n",
       "      <td>3</td>\n",
       "    </tr>\n",
       "    <tr>\n",
       "      <th>...</th>\n",
       "      <td>...</td>\n",
       "      <td>...</td>\n",
       "      <td>...</td>\n",
       "      <td>...</td>\n",
       "    </tr>\n",
       "    <tr>\n",
       "      <th>59977</th>\n",
       "      <td>53423</td>\n",
       "      <td>043965548X</td>\n",
       "      <td>3.533333</td>\n",
       "      <td>5</td>\n",
       "    </tr>\n",
       "    <tr>\n",
       "      <th>154513</th>\n",
       "      <td>53423</td>\n",
       "      <td>014038572X</td>\n",
       "      <td>4.460674</td>\n",
       "      <td>5</td>\n",
       "    </tr>\n",
       "    <tr>\n",
       "      <th>222792</th>\n",
       "      <td>53423</td>\n",
       "      <td>1567921892</td>\n",
       "      <td>4.500000</td>\n",
       "      <td>4</td>\n",
       "    </tr>\n",
       "    <tr>\n",
       "      <th>262957</th>\n",
       "      <td>53424</td>\n",
       "      <td>043933909X</td>\n",
       "      <td>10.000000</td>\n",
       "      <td>5</td>\n",
       "    </tr>\n",
       "    <tr>\n",
       "      <th>59978</th>\n",
       "      <td>53424</td>\n",
       "      <td>043965548X</td>\n",
       "      <td>3.533333</td>\n",
       "      <td>5</td>\n",
       "    </tr>\n",
       "  </tbody>\n",
       "</table>\n",
       "<p>264108 rows × 4 columns</p>\n",
       "</div>"
      ],
      "text/plain": [
       "        user_id_gr     isbn_gr  rating_bx  rating_gr\n",
       "0                1  038572179X   2.786517          3\n",
       "17750            1  038549081X   4.117647          3\n",
       "25293            1  031242227X   3.546584          2\n",
       "29017            1  1400032717   4.813187          3\n",
       "38052            1  014023313X   2.436464          3\n",
       "...            ...         ...        ...        ...\n",
       "59977        53423  043965548X   3.533333          5\n",
       "154513       53423  014038572X   4.460674          5\n",
       "222792       53423  1567921892   4.500000          4\n",
       "262957       53424  043933909X  10.000000          5\n",
       "59978        53424  043965548X   3.533333          5\n",
       "\n",
       "[264108 rows x 4 columns]"
      ]
     },
     "execution_count": 5,
     "metadata": {},
     "output_type": "execute_result"
    }
   ],
   "source": [
    "final_dataframe"
   ]
  },
  {
   "cell_type": "code",
   "execution_count": 3,
   "metadata": {},
   "outputs": [
    {
     "name": "stdout",
     "output_type": "stream",
     "text": [
      "Mapping for column 'isbn_gr' saved to data/processed//isbn_gr_mapping.pkl\n"
     ]
    },
    {
     "name": "stderr",
     "output_type": "stream",
     "text": [
      "  0%|          | 0/396 [00:00<?, ?it/s]"
     ]
    },
    {
     "name": "stderr",
     "output_type": "stream",
     "text": [
      "100%|██████████| 396/396 [00:00<00:00, 2440.00it/s]\n"
     ]
    },
    {
     "data": {
      "text/plain": [
       "(['Larry McMurtry',\n",
       "  'George R.R. Martin',\n",
       "  'J.K. Rowling, Mary GrandPré, Rufus Beck'],\n",
       " ['Lonesome Dove',\n",
       "  'A Storm of Swords (A Song of Ice and Fire, #3)',\n",
       "  'Harry Potter and the Prisoner of Azkaban (Harry Potter, #3)'],\n",
       " [1985.0, 2000.0, 1999.0])"
      ]
     },
     "execution_count": 3,
     "metadata": {},
     "output_type": "execute_result"
    }
   ],
   "source": [
    "hfr.get_default_books()"
   ]
  },
  {
   "cell_type": "code",
   "execution_count": null,
   "metadata": {},
   "outputs": [],
   "source": []
  }
 ],
 "metadata": {
  "kernelspec": {
   "display_name": "base",
   "language": "python",
   "name": "python3"
  },
  "language_info": {
   "codemirror_mode": {
    "name": "ipython",
    "version": 3
   },
   "file_extension": ".py",
   "mimetype": "text/x-python",
   "name": "python",
   "nbconvert_exporter": "python",
   "pygments_lexer": "ipython3",
   "version": "3.9.12"
  },
  "orig_nbformat": 4
 },
 "nbformat": 4,
 "nbformat_minor": 2
}
